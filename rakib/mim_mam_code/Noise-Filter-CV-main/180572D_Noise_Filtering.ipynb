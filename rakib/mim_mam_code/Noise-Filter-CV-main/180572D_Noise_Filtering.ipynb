{
 "cells": [
  {
   "attachments": {},
   "cell_type": "markdown",
   "metadata": {},
   "source": [
    "#### Import"
   ]
  },
  {
   "cell_type": "code",
   "execution_count": 1,
   "metadata": {},
   "outputs": [],
   "source": [
    "import numpy as np\n",
    "import matplotlib.pyplot as plt\n",
    "import cv2\n",
    "import os\n",
    "%matplotlib inline"
   ]
  },
  {
   "attachments": {},
   "cell_type": "markdown",
   "metadata": {},
   "source": [
    "#### Global var"
   ]
  },
  {
   "cell_type": "code",
   "execution_count": 1,
   "metadata": {},
   "outputs": [],
   "source": [
    "HOME_DIR = \"home\"\n",
    "kernelSize = input(\"Kernel size (default 3) : \")\n",
    "if kernelSize == \"\":\n",
    "    kernelSize = 3\n",
    "else:\n",
    "    kernelSize = int(kernelSize)"
   ]
  },
  {
   "attachments": {},
   "cell_type": "markdown",
   "metadata": {},
   "source": [
    "#### Open all images"
   ]
  },
  {
   "cell_type": "code",
   "execution_count": 3,
   "metadata": {},
   "outputs": [],
   "source": [
    "def load_images_from_folder(folder : str):\n",
    "    images = []\n",
    "    imagesName = []\n",
    "    for filename in os.listdir(folder):\n",
    "        img = cv2.imread(os.path.join(folder,filename))\n",
    "        if img is not None:\n",
    "            images.append(img)\n",
    "            imagesName.append(filename.split(\".\")[0])\n",
    "    return images, imagesName"
   ]
  },
  {
   "cell_type": "code",
   "execution_count": 4,
   "metadata": {},
   "outputs": [
    {
     "ename": "NameError",
     "evalue": "name 'load_images_from_folder' is not defined",
     "output_type": "error",
     "traceback": [
      "\u001b[1;31m---------------------------------------------------------------------------\u001b[0m",
      "\u001b[1;31mNameError\u001b[0m                                 Traceback (most recent call last)",
      "Cell \u001b[1;32mIn[4], line 1\u001b[0m\n\u001b[1;32m----> 1\u001b[0m images, imagesName \u001b[38;5;241m=\u001b[39m \u001b[43mload_images_from_folder\u001b[49m(HOME_DIR)\n\u001b[0;32m      2\u001b[0m \u001b[38;5;28;01mfor\u001b[39;00m img \u001b[38;5;129;01min\u001b[39;00m images:\n\u001b[0;32m      3\u001b[0m     plt\u001b[38;5;241m.\u001b[39mimshow(img)\n",
      "\u001b[1;31mNameError\u001b[0m: name 'load_images_from_folder' is not defined"
     ]
    }
   ],
   "source": [
    "images, imagesName = load_images_from_folder(HOME_DIR)\n",
    "for img in images:\n",
    "    plt.imshow(img)\n",
    "    plt.show()"
   ]
  },
  {
   "cell_type": "code",
   "execution_count": 5,
   "metadata": {},
   "outputs": [],
   "source": [
    "def wrappingImage(img, kernelSize : int):\n",
    "    ### width of the mask\n",
    "    w = kernelSize // 2\n",
    "\n",
    "    # Fetch First Rows of for wrapping\n",
    "    fetchFirstRows = img[0 : w , :]\n",
    "    fetchLastRows = img[-w : , : ]\n",
    "    \n",
    "    imgWrapped = img.copy()\n",
    "    imgWrapped = np.insert(imgWrapped, 0, fetchLastRows, axis=0)\n",
    "    imgWrapped = np.append(imgWrapped, fetchFirstRows, axis = 0)\n",
    "    \n",
    "    ### Fetch First and Last Colsfro wrapping\n",
    "    fetchFirstCols = imgWrapped[:, 0 : w]\n",
    "    fetchLastCols = imgWrapped[:, -w : ]\n",
    "    imgWrapped = np.concatenate([fetchLastCols,imgWrapped], axis=1)\n",
    "    imgWrapped = np.append(imgWrapped, fetchFirstCols, axis = 1)\n",
    "\n",
    "    return imgWrapped"
   ]
  },
  {
   "cell_type": "code",
   "execution_count": 6,
   "metadata": {},
   "outputs": [],
   "source": [
    "def meanFilter(orginalImg, wrappedImage, kernelSize : int):\n",
    "    filteredImage = np.zeros(orginalImg.shape,dtype=np.int32)\n",
    "    image_h, image_w = orginalImg.shape[0], orginalImg.shape[1]\n",
    "\n",
    "    w = kernelSize//2\n",
    "\n",
    "    for i in range(w, image_h - w): ## traverse image row\n",
    "        for j in range(w, image_w - w):  ## traverse image col \n",
    "            total = [0,0,0]\n",
    "            for m in range(kernelSize):\n",
    "                for n in range(kernelSize):\n",
    "                    total += wrappedImage[i-w+m][j-w+n]\n",
    "            filteredImage[i-w][j-w] = total // (kernelSize * kernelSize)\n",
    "    return filteredImage\n"
   ]
  },
  {
   "cell_type": "code",
   "execution_count": 7,
   "metadata": {},
   "outputs": [],
   "source": [
    "def medianFilter(orginalImg, wrappedImage, kernelSize : int):\n",
    "    filteredImage = np.zeros(orginalImg.shape,dtype=np.int32)\n",
    "    image_h, image_w = orginalImg.shape[0], orginalImg.shape[1]\n",
    "\n",
    "    w = kernelSize//2\n",
    "\n",
    "    for i in range(w, image_h - w): ## traverse image row\n",
    "        for j in range(w, image_w - w):  ## traverse image col \n",
    "\n",
    "            overlapImg = wrappedImage[i-w : i+w+1, j-w : j+w+1 ]    # Crop image for mask product         \n",
    "            filteredImage[i][j] = np.median(overlapImg.reshape(-1, 3), axis=0)  # Filtering\n",
    "            \n",
    "    return filteredImage"
   ]
  },
  {
   "cell_type": "code",
   "execution_count": 8,
   "metadata": {},
   "outputs": [],
   "source": [
    "def midPointFilter(orginalImg, wrappedImage, kernelSize : int):\n",
    "    filteredImage = np.zeros(orginalImg.shape,dtype=np.int32)\n",
    "    image_h, image_w = orginalImg.shape[0], orginalImg.shape[1]\n",
    "\n",
    "    w = kernelSize//2\n",
    "\n",
    "    for i in range(w, image_h - w): ## traverse image row\n",
    "        for j in range(w, image_w - w):  ## traverse image col \n",
    "\n",
    "            overlapImg = wrappedImage[i-w : i+w+1, j-w : j+w+1 ]    # Crop image for mask product         \n",
    "            # change the dtype to 'int32' for add purpose\n",
    "            overlapImg = overlapImg.astype('int32')   \n",
    "            maxVal = np.max(overlapImg.reshape(-1, 3), axis=0)\n",
    "            minVal = np.min(overlapImg.reshape(-1, 3), axis=0)\n",
    "            filteredImage[i][j] = np.add(maxVal, minVal) // 2\n",
    "            \n",
    "    return filteredImage"
   ]
  },
  {
   "cell_type": "code",
   "execution_count": 9,
   "metadata": {},
   "outputs": [],
   "source": [
    "def saveImage(fileName : str, img):\n",
    "    path = HOME_DIR + \"/\" + fileName + \".jpg\"\n",
    "    cv2.imwrite(path, img)"
   ]
  },
  {
   "cell_type": "code",
   "execution_count": 11,
   "metadata": {},
   "outputs": [
    {
     "ename": "NameError",
     "evalue": "name 'images' is not defined",
     "output_type": "error",
     "traceback": [
      "\u001b[1;31m---------------------------------------------------------------------------\u001b[0m",
      "\u001b[1;31mNameError\u001b[0m                                 Traceback (most recent call last)",
      "Cell \u001b[1;32mIn[11], line 2\u001b[0m\n\u001b[0;32m      1\u001b[0m \u001b[38;5;66;03m## iterate all images to apply filter\u001b[39;00m\n\u001b[1;32m----> 2\u001b[0m \u001b[38;5;28;01mfor\u001b[39;00m idx, image \u001b[38;5;129;01min\u001b[39;00m \u001b[38;5;28menumerate\u001b[39m(\u001b[43mimages\u001b[49m):\n\u001b[0;32m      3\u001b[0m     \u001b[38;5;66;03m### Wrap the image\u001b[39;00m\n\u001b[0;32m      4\u001b[0m     wrappedImg \u001b[38;5;241m=\u001b[39m wrappingImage(image, kernelSize)\n\u001b[0;32m      5\u001b[0m     \u001b[38;5;66;03m## mean filter image\u001b[39;00m\n",
      "\u001b[1;31mNameError\u001b[0m: name 'images' is not defined"
     ]
    }
   ],
   "source": [
    "## iterate all images to apply filter\n",
    "for idx, image in enumerate(images):\n",
    "    ### Wrap the image\n",
    "    wrappedImg = wrappingImage(image, kernelSize)\n",
    "    ## mean filter image\n",
    "    meanFilteredImg = meanFilter(image, wrappedImg, kernelSize)\n",
    "    saveImage(imagesName[idx] + \"meanFilter\", meanFilteredImg)\n",
    "    ## median filter image\n",
    "    medianFilteredImg = medianFilter(image, wrappedImg, kernelSize)\n",
    "    saveImage(imagesName[idx] + \"medianFilter\", medianFilteredImg)\n",
    "    ## mean filter image\n",
    "    midPointFilteredImg = midPointFilter(image, wrappedImg, kernelSize)\n",
    "    saveImage(imagesName[idx] + \"midPointFilter\", midPointFilteredImg)"
   ]
  },
  {
   "cell_type": "code",
   "execution_count": 12,
   "metadata": {},
   "outputs": [
    {
     "ename": "NameError",
     "evalue": "name 'load_images_from_folder' is not defined",
     "output_type": "error",
     "traceback": [
      "\u001b[1;31m---------------------------------------------------------------------------\u001b[0m",
      "\u001b[1;31mNameError\u001b[0m                                 Traceback (most recent call last)",
      "Cell \u001b[1;32mIn[12], line 1\u001b[0m\n\u001b[1;32m----> 1\u001b[0m images, imagesName \u001b[38;5;241m=\u001b[39m \u001b[43mload_images_from_folder\u001b[49m(HOME_DIR)\n\u001b[0;32m      2\u001b[0m \u001b[38;5;28;01mfor\u001b[39;00m img \u001b[38;5;129;01min\u001b[39;00m images:\n\u001b[0;32m      3\u001b[0m     plt\u001b[38;5;241m.\u001b[39mimshow(img)\n",
      "\u001b[1;31mNameError\u001b[0m: name 'load_images_from_folder' is not defined"
     ]
    }
   ],
   "source": [
    "images, imagesName = load_images_from_folder(HOME_DIR)\n",
    "for img in images:\n",
    "    plt.imshow(img)\n",
    "    plt.show()"
   ]
  }
 ],
 "metadata": {
  "kernelspec": {
   "display_name": "Python 3",
   "language": "python",
   "name": "python3"
  },
  "language_info": {
   "codemirror_mode": {
    "name": "ipython",
    "version": 3
   },
   "file_extension": ".py",
   "mimetype": "text/x-python",
   "name": "python",
   "nbconvert_exporter": "python",
   "pygments_lexer": "ipython3",
   "version": "3.12.6"
  },
  "orig_nbformat": 4,
  "vscode": {
   "interpreter": {
    "hash": "bcc88a5c2b6accdcaf39c87a931cb715cc1ab684beb32819a99a5a377f971b8d"
   }
  }
 },
 "nbformat": 4,
 "nbformat_minor": 2
}
